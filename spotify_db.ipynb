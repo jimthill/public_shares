{
 "cells": [
  {
   "cell_type": "markdown",
   "id": "248c5722-1a07-4861-8190-a76569c07f74",
   "metadata": {},
   "source": [
    "This Python script reads in a tab-delimited *.txt of the top 4600 Spotify songs of 2024 and adds title, album, artist, release date, ranking, and stream count to a sqlite DB as three tables. Note that splitting on '\\t' results in a cleaner DB output compared to splitting on ',' from a *.csv. [Source data here](https://www.kaggle.com/datasets/nelgiriyewithana/most-streamed-spotify-songs-2024?select=Most+Streamed+Spotify+Songs+2024.csv)"
   ]
  },
  {
   "cell_type": "code",
   "execution_count": 1,
   "id": "5d949bb2-93bb-491a-a56a-d48a2b3b4fb0",
   "metadata": {},
   "outputs": [],
   "source": [
    "import sqlite3\n",
    "\n",
    "conn = sqlite3.connect('trackdb.sqlite')\n",
    "cur = conn.cursor()\n",
    "\n",
    "# Make some fresh tables using executescript()\n",
    "cur.executescript('''\n",
    "DROP TABLE IF EXISTS Artist;\n",
    "DROP TABLE IF EXISTS Album;\n",
    "DROP TABLE IF EXISTS Track;\n",
    "\n",
    "CREATE TABLE Artist (\n",
    "    id  INTEGER NOT NULL PRIMARY KEY AUTOINCREMENT UNIQUE,\n",
    "    name    TEXT UNIQUE\n",
    ");\n",
    "\n",
    "CREATE TABLE Album (\n",
    "    id  INTEGER NOT NULL PRIMARY KEY AUTOINCREMENT UNIQUE,\n",
    "    artist_id  INTEGER,\n",
    "    title   TEXT UNIQUE\n",
    ");\n",
    "\n",
    "CREATE TABLE Track (\n",
    "    id  INTEGER NOT NULL PRIMARY KEY \n",
    "        AUTOINCREMENT UNIQUE,\n",
    "    title TEXT  UNIQUE,\n",
    "    album_id  INTEGER,\n",
    "    release_date TEXT, rank_2024 INTEGER, spotify_streams INTEGER\n",
    ");\n",
    "''')\n",
    "\n",
    "handle = open('spotify2024.txt')\n",
    "\n",
    "\n",
    "for line in handle:\n",
    "    line = line.strip();\n",
    "    pieces = line.split('\\t')\n",
    "    if len(pieces) < 6 : continue\n",
    "\n",
    "    track = pieces[0]\n",
    "    album = pieces[1]\n",
    "    artist = pieces[2]\n",
    "    release_date = pieces[3]\n",
    "    rank_2024 = pieces[5]\n",
    "    spotify_streams = pieces[7]\n",
    "    \n",
    "    print(track, album, artist, release_date, rank_2024, spotify_streams)\n",
    "\n",
    "    cur.execute('''INSERT OR IGNORE INTO Artist (name) \n",
    "        VALUES ( ? )''', ( artist, ) )\n",
    "    cur.execute('SELECT id FROM Artist WHERE name = ? ', (artist, ))\n",
    "    artist_id = cur.fetchone()[0]\n",
    "\n",
    "    cur.execute('''INSERT OR IGNORE INTO Album (title, artist_id) \n",
    "        VALUES ( ?, ? )''', ( album, artist_id ) )\n",
    "    cur.execute('SELECT id FROM Album WHERE title = ? ', (album, ))\n",
    "    album_id = cur.fetchone()[0]\n",
    "\n",
    "    cur.execute('''INSERT OR REPLACE INTO Track\n",
    "        (title, album_id, release_date, rank_2024, spotify_streams) \n",
    "        VALUES ( ?, ?, ?, ?, ? )''', \n",
    "        ( track, album_id, release_date, rank_2024, spotify_streams ) )\n",
    "\n",
    "    conn.commit()\n",
    "   "
   ]
  },
  {
   "cell_type": "code",
   "execution_count": null,
   "id": "6e868ff8-f542-4f9d-93ed-841d9d02e279",
   "metadata": {},
   "outputs": [],
   "source": []
  }
 ],
 "metadata": {
  "kernelspec": {
   "display_name": "Python 3 (ipykernel)",
   "language": "python",
   "name": "python3"
  },
  "language_info": {
   "codemirror_mode": {
    "name": "ipython",
    "version": 3
   },
   "file_extension": ".py",
   "mimetype": "text/x-python",
   "name": "python",
   "nbconvert_exporter": "python",
   "pygments_lexer": "ipython3",
   "version": "3.12.2"
  }
 },
 "nbformat": 4,
 "nbformat_minor": 5
}
